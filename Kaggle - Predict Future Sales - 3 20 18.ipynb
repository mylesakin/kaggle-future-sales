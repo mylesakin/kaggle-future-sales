{
 "cells": [
  {
   "cell_type": "markdown",
   "metadata": {},
   "source": [
    "# Setup"
   ]
  },
  {
   "cell_type": "code",
   "execution_count": 1,
   "metadata": {},
   "outputs": [
    {
     "name": "stderr",
     "output_type": "stream",
     "text": [
      "/Library/Frameworks/Python.framework/Versions/3.6/lib/python3.6/site-packages/statsmodels/compat/pandas.py:56: FutureWarning: The pandas.core.datetools module is deprecated and will be removed in a future version. Please use the pandas.tseries module instead.\n",
      "  from pandas.core import datetools\n"
     ]
    }
   ],
   "source": [
    "import os\n",
    "import time\n",
    "import numpy as np\n",
    "import pandas as pd\n",
    "import statsmodels.api as sm\n",
    "import math\n",
    "import matplotlib.pyplot as plt\n",
    "\n",
    "from sklearn.preprocessing import FunctionTransformer\n",
    "from sklearn.pipeline import make_pipeline\n",
    "from sklearn.ensemble import GradientBoostingRegressor\n",
    "from sklearn.ensemble import RandomForestRegressor\n",
    "from sklearn.ensemble import BaggingRegressor\n",
    "from sklearn.tree import DecisionTreeRegressor"
   ]
  },
  {
   "cell_type": "code",
   "execution_count": 2,
   "metadata": {},
   "outputs": [],
   "source": [
    "def moving_average(a, n=3):\n",
    "    ret = np.cumsum(a, dtype = float)\n",
    "    ret[n:] = ret[n:] - ret[:-n]\n",
    "    return ret[n-1:]/n\n",
    "\n",
    "def trim_predictions(preds,i):\n",
    "    preds1=preds\n",
    "    preds1[np.where(preds[:,1]>=20)]=20\n",
    "    preds1[np.where(preds1[:,1]<0)]=0\n",
    "    return preds1"
   ]
  },
  {
   "cell_type": "code",
   "execution_count": 3,
   "metadata": {},
   "outputs": [],
   "source": [
    "#this cell from kaggle user coco bird\n",
    "#https://www.kaggle.com/cocobird/previous-month-benchmark\n",
    "\n",
    "def parse_date(df):\n",
    "    _df = df.copy()\n",
    "    _df[\"date\"] = pd.to_datetime(_df.date, format=\"%d.%m.%Y\")\n",
    "    return _df\n",
    "\n",
    "def day_month_year(df):\n",
    "    _df = df.copy()\n",
    "    _df[\"day\"] = _df.date.apply(lambda x: x.day)\n",
    "    _df[\"month\"] = _df.date.apply(lambda x: x.month)\n",
    "    _df[\"year\"] = _df.date.apply(lambda x: x.year)\n",
    "    return _df\n",
    "\n",
    "# Transformers\n",
    "parse_date_transformer = FunctionTransformer(parse_date, validate=False)\n",
    "day_month_year_transformer = FunctionTransformer(day_month_year, validate=False)\n",
    "\n",
    "# Pipelines\n",
    "date_pipeline = make_pipeline(parse_date_transformer, day_month_year_transformer)\n",
    "\n",
    "# Main Pipeline\n",
    "preprocessing_pipeline = make_pipeline(date_pipeline)"
   ]
  },
  {
   "cell_type": "markdown",
   "metadata": {},
   "source": [
    "# Preprocessing"
   ]
  },
  {
   "cell_type": "code",
   "execution_count": 4,
   "metadata": {},
   "outputs": [],
   "source": [
    "#import data\n",
    "# path = \"C:/users/pythontensorflow/downloads/\" #<data path>\n",
    "path = '/Users/ML/Dropbox/Research/Machine Learning/Kaggle Predict Future Sales/'\n",
    "\n",
    "sales = pd.read_csv(path + \"sales_train.csv\")\n",
    "test_df = pd.read_csv(path + \"test.csv\")\n",
    "items = pd.read_csv(path+\"items.csv\")\n",
    "\n",
    "e = len(test_df)"
   ]
  },
  {
   "cell_type": "code",
   "execution_count": 5,
   "metadata": {},
   "outputs": [],
   "source": [
    "#sort shops and omit those which are no longer open\n",
    "\n",
    "sales_sorted = sales.sort_values(\"shop_id\")\n",
    "\n",
    "still_open = np.zeros(60)\n",
    "for i in range(60):\n",
    "    a = sales_sorted.loc[sales_sorted[\"shop_id\"]==i]\n",
    "    b= preprocessing_pipeline.transform(a)\n",
    "    still_open[i] = max(b[\"year\"])\n",
    "\n",
    "for i in range(len(still_open)):\n",
    "    if still_open[i] < 2015:\n",
    "        sales_sorted = sales_sorted[sales_sorted.shop_id != i]\n",
    "        \n",
    "        \n",
    "#parse dates\n",
    "sales_sorted_dates = preprocessing_pipeline.transform(sales_sorted)"
   ]
  },
  {
   "cell_type": "markdown",
   "metadata": {},
   "source": [
    "# Shop 2"
   ]
  },
  {
   "cell_type": "markdown",
   "metadata": {},
   "source": [
    "To test the efficacy of different models, we use the data for shop 2 as a small test set."
   ]
  },
  {
   "cell_type": "markdown",
   "metadata": {},
   "source": [
    "##  Total Sales"
   ]
  },
  {
   "cell_type": "code",
   "execution_count": 6,
   "metadata": {
    "scrolled": false
   },
   "outputs": [
    {
     "data": {
      "image/png": "[encoded data removed]",
      "text/plain": [
       "<matplotlib.figure.Figure at 0x10755bc18>"
      ]
     },
     "metadata": {},
     "output_type": "display_data"
    }
   ],
   "source": [
    "sales_tot = np.zeros([3,12])\n",
    "q=0\n",
    "for i in [2013,2014,2015]:\n",
    "    for j in range(1,13):\n",
    "        sales_tot[q,j-1] = sales_sorted_dates[ (sales_sorted_dates.shop_id == 2) & (sales_sorted_dates.month == j) & (sales_sorted_dates.year == i) ].item_cnt_day.sum()\n",
    "    q = q + 1\n",
    "    \n",
    "sales_by_month = np.hstack(sales_tot)\n",
    "plt.plot(sales_by_month)\n",
    "plt.show()"
   ]
  },
  {
   "cell_type": "markdown",
   "metadata": {},
   "source": [
    "## Total Sales by Item"
   ]
  },
  {
   "cell_type": "code",
   "execution_count": 28,
   "metadata": {},
   "outputs": [],
   "source": [
    "shop_2 = sales_sorted_dates[sales_sorted_dates.shop_id == 2]\n",
    "\n",
    "shop_2_unique = shop_2['item_id'].unique()\n",
    "\n",
    "K = len(shop_2_unique)\n",
    "\n",
    "item_sales_by_month = np.zeros([K,35])\n",
    "\n",
    "r=0\n",
    "for k in shop_2_unique:\n",
    "    \n",
    "    sales_tot_by_item = np.zeros([3,12])\n",
    "\n",
    "    q=0\n",
    "    for i in [2013,2014,2015]:\n",
    "        for j in range(1,13):\n",
    "            sales_tot_by_item[q,j-1] = shop_2[(shop_2.item_id == k) & (shop_2.month == j) & (shop_2.year == i) ].item_cnt_day.sum()\n",
    "        q=q+1\n",
    "        \n",
    "    a = np.hstack(sales_tot_by_item)\n",
    "      \n",
    "    \n",
    "    item_sales_by_month[r,0] = int(k)\n",
    "    item_sales_by_month[r,1:] = a[:-2]\n",
    "    \n",
    "    r = r + 1 "
   ]
  },
  {
   "cell_type": "markdown",
   "metadata": {},
   "source": [
    "## Models"
   ]
  },
  {
   "cell_type": "markdown",
   "metadata": {},
   "source": [
    "### Apply Moving Average Filter to Data"
   ]
  },
  {
   "cell_type": "code",
   "execution_count": 29,
   "metadata": {
    "scrolled": false
   },
   "outputs": [
    {
     "data": {
      "image/png": "[encoded data removed]",
      "text/plain": [
       "<matplotlib.figure.Figure at 0x11a896518>"
      ]
     },
     "metadata": {},
     "output_type": "display_data"
    },
    {
     "data": {
      "image/png": "[encoded data removed]",
      "text/plain": [
       "<matplotlib.figure.Figure at 0x11ae3b2b0>"
      ]
     },
     "metadata": {},
     "output_type": "display_data"
    }
   ],
   "source": [
    "#select a single item to view sales data\n",
    "itm = 0\n",
    "\n",
    "#apply moving average filter\n",
    "mov_av = moving_average(item_sales_by_month[itm,1:], n=4)\n",
    "plt.title('Filtered Sales')\n",
    "plt.plot(mov_av)\n",
    "\n",
    "plt.show()\n",
    "\n",
    "plt.figure()\n",
    "plt.title('Actual Sales')\n",
    "plt.plot(item_sales_by_month[itm,1:])\n",
    "\n",
    "plt.show()"
   ]
  },
  {
   "cell_type": "markdown",
   "metadata": {},
   "source": [
    "### Autoregressive Model"
   ]
  },
  {
   "cell_type": "code",
   "execution_count": 30,
   "metadata": {},
   "outputs": [
    {
     "data": {
      "image/png": "[encoded data removed]",
      "text/plain": [
       "<matplotlib.figure.Figure at 0x11b039e80>"
      ]
     },
     "metadata": {},
     "output_type": "display_data"
    },
    {
     "data": {
      "image/png": "[encoded data removed]",
      "text/plain": [
       "<matplotlib.figure.Figure at 0x107db3588>"
      ]
     },
     "metadata": {},
     "output_type": "display_data"
    }
   ],
   "source": [
    "#AR applied to data filtered by moving average\n",
    "acf = sm.tsa.acf(item_sales_by_month[itm,1:])\n",
    "y_acf = np.arange(len(acf))\n",
    "\n",
    "ar = sm.tsa.AR(mov_av).fit(2,trend='nc',disp=False)\n",
    "# print(ar.params)\n",
    "# print(ar.predict())\n",
    "\n",
    "plt.figure()\n",
    "plt.plot(np.abs(ar.predict(12,35)))\n",
    "plt.title('Predicted Sales vs Actual Sales')\n",
    "plt.plot(mov_av[11:], color='k')\n",
    "plt.show()\n",
    "\n",
    "plt.figure()\n",
    "plt.title('Autocorrelation')\n",
    "plt.bar(y_acf, acf)\n",
    "plt.show()"
   ]
  },
  {
   "cell_type": "markdown",
   "metadata": {},
   "source": [
    "### Decision Tree Models"
   ]
  },
  {
   "cell_type": "code",
   "execution_count": 31,
   "metadata": {},
   "outputs": [
    {
     "data": {
      "image/png": "[encoded data removed]",
      "text/plain": [
       "<matplotlib.figure.Figure at 0x11a42f5f8>"
      ]
     },
     "metadata": {},
     "output_type": "display_data"
    }
   ],
   "source": [
    "itm = 0\n",
    "\n",
    "#incorporate calendar month as a feature\n",
    "months = (np.arange(34) % 12)+1\n",
    "\n",
    "feats = np.vstack((item_sales_by_month[itm,1:-1],months[1:]))\n",
    "\n",
    "#select model type\n",
    "model = GradientBoostingRegressor(n_estimators=150, max_depth =24)\n",
    "# model = RandomForestRegressor(n_estimators=120, max_depth=6)\n",
    "# model = BaggingRegressor(DecisionTreeRegressor(max_depth=12), n_estimators = 120)\n",
    "\n",
    "model.fit(feats.reshape(len(months[1:]),2),item_sales_by_month[itm,2:])\n",
    "\n",
    "pred = model.predict(feats.reshape(len(months[1:]),2))\n",
    "# print(pred)\n",
    "plt.figure()\n",
    "plt.title('Actual Sales vs Decision Tree Prediction')\n",
    "plt.plot(pred)\n",
    "plt.plot(item_sales_by_month[itm,2:], color='k')\n",
    "plt.show()"
   ]
  },
  {
   "cell_type": "markdown",
   "metadata": {},
   "source": [
    "# All Shops"
   ]
  },
  {
   "cell_type": "markdown",
   "metadata": {},
   "source": [
    "## Total Sales Data"
   ]
  },
  {
   "cell_type": "code",
   "execution_count": 43,
   "metadata": {
    "scrolled": true
   },
   "outputs": [
    {
     "name": "stdout",
     "output_type": "stream",
     "text": [
      "0\n",
      "1\n"
     ]
    },
    {
     "ename": "KeyboardInterrupt",
     "evalue": "",
     "output_type": "error",
     "traceback": [
      "\u001b[1;31m---------------------------------------------------------------------------\u001b[0m",
      "\u001b[1;31mKeyboardInterrupt\u001b[0m                         Traceback (most recent call last)",
      "\u001b[1;32m<ipython-input-43-ba023ffade41>\u001b[0m in \u001b[0;36m<module>\u001b[1;34m()\u001b[0m\n\u001b[0;32m     22\u001b[0m         \u001b[1;32mfor\u001b[0m \u001b[0mi\u001b[0m \u001b[1;32min\u001b[0m \u001b[1;33m[\u001b[0m\u001b[1;36m2013\u001b[0m\u001b[1;33m,\u001b[0m\u001b[1;36m2014\u001b[0m\u001b[1;33m,\u001b[0m\u001b[1;36m2015\u001b[0m\u001b[1;33m]\u001b[0m\u001b[1;33m:\u001b[0m\u001b[1;33m\u001b[0m\u001b[0m\n\u001b[0;32m     23\u001b[0m             \u001b[1;32mfor\u001b[0m \u001b[0mj\u001b[0m \u001b[1;32min\u001b[0m \u001b[0mrange\u001b[0m\u001b[1;33m(\u001b[0m\u001b[1;36m1\u001b[0m\u001b[1;33m,\u001b[0m\u001b[1;36m13\u001b[0m\u001b[1;33m)\u001b[0m\u001b[1;33m:\u001b[0m\u001b[1;33m\u001b[0m\u001b[0m\n\u001b[1;32m---> 24\u001b[1;33m                 \u001b[0msales_tot\u001b[0m\u001b[1;33m[\u001b[0m\u001b[0mq\u001b[0m\u001b[1;33m,\u001b[0m\u001b[0mj\u001b[0m\u001b[1;33m-\u001b[0m\u001b[1;36m1\u001b[0m\u001b[1;33m]\u001b[0m \u001b[1;33m=\u001b[0m \u001b[0mshop_s\u001b[0m\u001b[1;33m[\u001b[0m\u001b[1;33m(\u001b[0m\u001b[0mshop_s\u001b[0m\u001b[1;33m.\u001b[0m\u001b[0mitem_id\u001b[0m \u001b[1;33m==\u001b[0m \u001b[0mk\u001b[0m\u001b[1;33m)\u001b[0m \u001b[1;33m&\u001b[0m \u001b[1;33m(\u001b[0m\u001b[0mshop_s\u001b[0m\u001b[1;33m.\u001b[0m\u001b[0mmonth\u001b[0m \u001b[1;33m==\u001b[0m \u001b[0mj\u001b[0m\u001b[1;33m)\u001b[0m \u001b[1;33m&\u001b[0m \u001b[1;33m(\u001b[0m\u001b[0mshop_s\u001b[0m\u001b[1;33m.\u001b[0m\u001b[0myear\u001b[0m \u001b[1;33m==\u001b[0m \u001b[0mi\u001b[0m\u001b[1;33m)\u001b[0m \u001b[1;33m]\u001b[0m\u001b[1;33m.\u001b[0m\u001b[0mitem_cnt_day\u001b[0m\u001b[1;33m.\u001b[0m\u001b[0msum\u001b[0m\u001b[1;33m(\u001b[0m\u001b[1;33m)\u001b[0m\u001b[1;33m\u001b[0m\u001b[0m\n\u001b[0m\u001b[0;32m     25\u001b[0m             \u001b[0mq\u001b[0m\u001b[1;33m=\u001b[0m\u001b[0mq\u001b[0m\u001b[1;33m+\u001b[0m\u001b[1;36m1\u001b[0m\u001b[1;33m\u001b[0m\u001b[0m\n\u001b[0;32m     26\u001b[0m         \u001b[0ma\u001b[0m \u001b[1;33m=\u001b[0m \u001b[0mnp\u001b[0m\u001b[1;33m.\u001b[0m\u001b[0mhstack\u001b[0m\u001b[1;33m(\u001b[0m\u001b[0msales_tot\u001b[0m\u001b[1;33m)\u001b[0m\u001b[1;33m\u001b[0m\u001b[0m\n",
      "\u001b[1;32m~\\Anaconda3\\lib\\site-packages\\pandas\\core\\ops.py\u001b[0m in \u001b[0;36mwrapper\u001b[1;34m(self, other, axis)\u001b[0m\n\u001b[0;32m    859\u001b[0m \u001b[1;33m\u001b[0m\u001b[0m\n\u001b[0;32m    860\u001b[0m             \u001b[1;32mwith\u001b[0m \u001b[0mnp\u001b[0m\u001b[1;33m.\u001b[0m\u001b[0merrstate\u001b[0m\u001b[1;33m(\u001b[0m\u001b[0mall\u001b[0m\u001b[1;33m=\u001b[0m\u001b[1;34m'ignore'\u001b[0m\u001b[1;33m)\u001b[0m\u001b[1;33m:\u001b[0m\u001b[1;33m\u001b[0m\u001b[0m\n\u001b[1;32m--> 861\u001b[1;33m                 \u001b[0mres\u001b[0m \u001b[1;33m=\u001b[0m \u001b[0mna_op\u001b[0m\u001b[1;33m(\u001b[0m\u001b[0mvalues\u001b[0m\u001b[1;33m,\u001b[0m \u001b[0mother\u001b[0m\u001b[1;33m)\u001b[0m\u001b[1;33m\u001b[0m\u001b[0m\n\u001b[0m\u001b[0;32m    862\u001b[0m             \u001b[1;32mif\u001b[0m \u001b[0mis_scalar\u001b[0m\u001b[1;33m(\u001b[0m\u001b[0mres\u001b[0m\u001b[1;33m)\u001b[0m\u001b[1;33m:\u001b[0m\u001b[1;33m\u001b[0m\u001b[0m\n\u001b[0;32m    863\u001b[0m                 raise TypeError('Could not compare %s type with Series' %\n",
      "\u001b[1;32m~\\Anaconda3\\lib\\site-packages\\pandas\\core\\ops.py\u001b[0m in \u001b[0;36mna_op\u001b[1;34m(x, y)\u001b[0m\n\u001b[0;32m    796\u001b[0m             \u001b[1;32mtry\u001b[0m\u001b[1;33m:\u001b[0m\u001b[1;33m\u001b[0m\u001b[0m\n\u001b[0;32m    797\u001b[0m                 \u001b[1;32mwith\u001b[0m \u001b[0mnp\u001b[0m\u001b[1;33m.\u001b[0m\u001b[0merrstate\u001b[0m\u001b[1;33m(\u001b[0m\u001b[0mall\u001b[0m\u001b[1;33m=\u001b[0m\u001b[1;34m'ignore'\u001b[0m\u001b[1;33m)\u001b[0m\u001b[1;33m:\u001b[0m\u001b[1;33m\u001b[0m\u001b[0m\n\u001b[1;32m--> 798\u001b[1;33m                     \u001b[0mresult\u001b[0m \u001b[1;33m=\u001b[0m \u001b[0mgetattr\u001b[0m\u001b[1;33m(\u001b[0m\u001b[0mx\u001b[0m\u001b[1;33m,\u001b[0m \u001b[0mname\u001b[0m\u001b[1;33m)\u001b[0m\u001b[1;33m(\u001b[0m\u001b[0my\u001b[0m\u001b[1;33m)\u001b[0m\u001b[1;33m\u001b[0m\u001b[0m\n\u001b[0m\u001b[0;32m    799\u001b[0m                 \u001b[1;32mif\u001b[0m \u001b[0mresult\u001b[0m \u001b[1;32mis\u001b[0m \u001b[0mNotImplemented\u001b[0m\u001b[1;33m:\u001b[0m\u001b[1;33m\u001b[0m\u001b[0m\n\u001b[0;32m    800\u001b[0m                     \u001b[1;32mraise\u001b[0m \u001b[0mTypeError\u001b[0m\u001b[1;33m(\u001b[0m\u001b[1;34m\"invalid type comparison\"\u001b[0m\u001b[1;33m)\u001b[0m\u001b[1;33m\u001b[0m\u001b[0m\n",
      "\u001b[1;31mKeyboardInterrupt\u001b[0m: "
     ]
    }
   ],
   "source": [
    "output_path = 'C:\\\\Users\\\\PythonTensorflow\\\\Desktop\\\\Kaggle Output\\\\'\n",
    "#output_path = <output_path>\n",
    "\n",
    "all_monthly_sales = np.zeros([1,36])\n",
    "\n",
    "for s in range(60):\n",
    "\n",
    "    shop_s = sales_sorted_dates[sales_sorted_dates.shop_id == s]\n",
    "\n",
    "    shop_s_unique = shop_s['item_id'].unique()\n",
    "\n",
    "    K = len(shop_s_unique)\n",
    "\n",
    "    store_item_sales_by_month = np.zeros([K,36])\n",
    "    \n",
    "    r=0\n",
    "    \n",
    "    for k in shop_s_unique:\n",
    "\n",
    "        sales_tot_by_store_item = np.zeros([3,12])\n",
    "        q=0\n",
    "        \n",
    "        for i in [2013,2014,2015]:\n",
    "            for j in range(1,13):\n",
    "                sales_tot_by_store_item[q,j-1] = shop_s[(shop_s.item_id == k) & (shop_s.month == j) & (shop_s.year == i) ].item_cnt_day.sum()\n",
    "            q=q+1\n",
    "            \n",
    "        a = np.hstack(sales_tot_by_store_item)\n",
    "      \n",
    "        store_item_sales_by_month[r,0] = s\n",
    "        store_item_sales_by_month[r,1] = k\n",
    "        store_item_sales_by_month[r,2:] = a[:-2]\n",
    "        \n",
    "        r = r + 1\n",
    "        \n",
    "    all_monthly_sales = np.vstack((all_monthly_sales, array))\n",
    "    \n",
    "#     print(s)\n",
    "\n",
    "all_monthly_sales = np.delete(all_monthly_sales, 0, 0)\n",
    "np.savetxt(output_path + 'all_monthly_sales.csv', all_monthly_sales, delimiter = ',')"
   ]
  },
  {
   "cell_type": "code",
   "execution_count": 45,
   "metadata": {
    "scrolled": true
   },
   "outputs": [
    {
     "data": {
      "text/html": [
       "<div>\n",
       "<style>\n",
       "    .dataframe thead tr:only-child th {\n",
       "        text-align: right;\n",
       "    }\n",
       "\n",
       "    .dataframe thead th {\n",
       "        text-align: left;\n",
       "    }\n",
       "\n",
       "    .dataframe tbody tr th {\n",
       "        vertical-align: top;\n",
       "    }\n",
       "</style>\n",
       "<table border=\"1\" class=\"dataframe\">\n",
       "  <thead>\n",
       "    <tr style=\"text-align: right;\">\n",
       "      <th></th>\n",
       "      <th>shop</th>\n",
       "      <th>item</th>\n",
       "      <th>0</th>\n",
       "      <th>1</th>\n",
       "      <th>2</th>\n",
       "      <th>3</th>\n",
       "      <th>4</th>\n",
       "      <th>5</th>\n",
       "      <th>6</th>\n",
       "      <th>7</th>\n",
       "      <th>...</th>\n",
       "      <th>24</th>\n",
       "      <th>25</th>\n",
       "      <th>26</th>\n",
       "      <th>27</th>\n",
       "      <th>28</th>\n",
       "      <th>29</th>\n",
       "      <th>30</th>\n",
       "      <th>31</th>\n",
       "      <th>32</th>\n",
       "      <th>33</th>\n",
       "    </tr>\n",
       "  </thead>\n",
       "  <tbody>\n",
       "    <tr>\n",
       "      <th>0</th>\n",
       "      <td>2.0</td>\n",
       "      <td>12134.0</td>\n",
       "      <td>4.0</td>\n",
       "      <td>2.0</td>\n",
       "      <td>1.0</td>\n",
       "      <td>3.0</td>\n",
       "      <td>1.0</td>\n",
       "      <td>2.0</td>\n",
       "      <td>3.0</td>\n",
       "      <td>1.0</td>\n",
       "      <td>...</td>\n",
       "      <td>2.0</td>\n",
       "      <td>3.0</td>\n",
       "      <td>3.0</td>\n",
       "      <td>1.0</td>\n",
       "      <td>4.0</td>\n",
       "      <td>3.0</td>\n",
       "      <td>1.0</td>\n",
       "      <td>1.0</td>\n",
       "      <td>2.0</td>\n",
       "      <td>0.0</td>\n",
       "    </tr>\n",
       "    <tr>\n",
       "      <th>1</th>\n",
       "      <td>2.0</td>\n",
       "      <td>5574.0</td>\n",
       "      <td>0.0</td>\n",
       "      <td>3.0</td>\n",
       "      <td>2.0</td>\n",
       "      <td>3.0</td>\n",
       "      <td>0.0</td>\n",
       "      <td>1.0</td>\n",
       "      <td>1.0</td>\n",
       "      <td>2.0</td>\n",
       "      <td>...</td>\n",
       "      <td>0.0</td>\n",
       "      <td>0.0</td>\n",
       "      <td>0.0</td>\n",
       "      <td>0.0</td>\n",
       "      <td>0.0</td>\n",
       "      <td>0.0</td>\n",
       "      <td>0.0</td>\n",
       "      <td>0.0</td>\n",
       "      <td>0.0</td>\n",
       "      <td>0.0</td>\n",
       "    </tr>\n",
       "    <tr>\n",
       "      <th>2</th>\n",
       "      <td>2.0</td>\n",
       "      <td>12172.0</td>\n",
       "      <td>0.0</td>\n",
       "      <td>1.0</td>\n",
       "      <td>0.0</td>\n",
       "      <td>0.0</td>\n",
       "      <td>0.0</td>\n",
       "      <td>0.0</td>\n",
       "      <td>0.0</td>\n",
       "      <td>0.0</td>\n",
       "      <td>...</td>\n",
       "      <td>0.0</td>\n",
       "      <td>0.0</td>\n",
       "      <td>0.0</td>\n",
       "      <td>0.0</td>\n",
       "      <td>0.0</td>\n",
       "      <td>0.0</td>\n",
       "      <td>0.0</td>\n",
       "      <td>0.0</td>\n",
       "      <td>0.0</td>\n",
       "      <td>0.0</td>\n",
       "    </tr>\n",
       "    <tr>\n",
       "      <th>3</th>\n",
       "      <td>2.0</td>\n",
       "      <td>11655.0</td>\n",
       "      <td>0.0</td>\n",
       "      <td>1.0</td>\n",
       "      <td>0.0</td>\n",
       "      <td>0.0</td>\n",
       "      <td>0.0</td>\n",
       "      <td>1.0</td>\n",
       "      <td>0.0</td>\n",
       "      <td>0.0</td>\n",
       "      <td>...</td>\n",
       "      <td>0.0</td>\n",
       "      <td>1.0</td>\n",
       "      <td>0.0</td>\n",
       "      <td>2.0</td>\n",
       "      <td>0.0</td>\n",
       "      <td>1.0</td>\n",
       "      <td>0.0</td>\n",
       "      <td>0.0</td>\n",
       "      <td>1.0</td>\n",
       "      <td>1.0</td>\n",
       "    </tr>\n",
       "    <tr>\n",
       "      <th>4</th>\n",
       "      <td>2.0</td>\n",
       "      <td>11656.0</td>\n",
       "      <td>0.0</td>\n",
       "      <td>1.0</td>\n",
       "      <td>0.0</td>\n",
       "      <td>0.0</td>\n",
       "      <td>0.0</td>\n",
       "      <td>0.0</td>\n",
       "      <td>0.0</td>\n",
       "      <td>0.0</td>\n",
       "      <td>...</td>\n",
       "      <td>0.0</td>\n",
       "      <td>0.0</td>\n",
       "      <td>0.0</td>\n",
       "      <td>0.0</td>\n",
       "      <td>0.0</td>\n",
       "      <td>0.0</td>\n",
       "      <td>0.0</td>\n",
       "      <td>0.0</td>\n",
       "      <td>0.0</td>\n",
       "      <td>0.0</td>\n",
       "    </tr>\n",
       "  </tbody>\n",
       "</table>\n",
       "<p>5 rows × 36 columns</p>\n",
       "</div>"
      ],
      "text/plain": [
       "   shop     item    0    1    2    3    4    5    6    7 ...    24   25   26  \\\n",
       "0   2.0  12134.0  4.0  2.0  1.0  3.0  1.0  2.0  3.0  1.0 ...   2.0  3.0  3.0   \n",
       "1   2.0   5574.0  0.0  3.0  2.0  3.0  0.0  1.0  1.0  2.0 ...   0.0  0.0  0.0   \n",
       "2   2.0  12172.0  0.0  1.0  0.0  0.0  0.0  0.0  0.0  0.0 ...   0.0  0.0  0.0   \n",
       "3   2.0  11655.0  0.0  1.0  0.0  0.0  0.0  1.0  0.0  0.0 ...   0.0  1.0  0.0   \n",
       "4   2.0  11656.0  0.0  1.0  0.0  0.0  0.0  0.0  0.0  0.0 ...   0.0  0.0  0.0   \n",
       "\n",
       "    27   28   29   30   31   32   33  \n",
       "0  1.0  4.0  3.0  1.0  1.0  2.0  0.0  \n",
       "1  0.0  0.0  0.0  0.0  0.0  0.0  0.0  \n",
       "2  0.0  0.0  0.0  0.0  0.0  0.0  0.0  \n",
       "3  2.0  0.0  1.0  0.0  0.0  1.0  1.0  \n",
       "4  0.0  0.0  0.0  0.0  0.0  0.0  0.0  \n",
       "\n",
       "[5 rows x 36 columns]"
      ]
     },
     "execution_count": 45,
     "metadata": {},
     "output_type": "execute_result"
    }
   ],
   "source": [
    "#convert to pandas dataframe\n",
    "\n",
    "#header data\n",
    "M= np.arange(1,35).tolist()\n",
    "for i in range(len(M)):\n",
    "    M[i] = str(M[i])\n",
    "H = ['shop','item']\n",
    "H.extend(M)\n",
    "len(H)\n",
    "\n",
    "all_monthly_sales_df = pd.read_csv( output_path + 'all_monthly_sales.csv', header = None, delimiter = ',' )\n",
    "all_monthly_sales_df.columns = H\n",
    "#all_monthly_sales_df.drop('34', axis = 1, inplace = True)\n",
    "all_monthly_sales_df.head()"
   ]
  },
  {
   "cell_type": "markdown",
   "metadata": {},
   "source": [
    "## Models"
   ]
  },
  {
   "cell_type": "markdown",
   "metadata": {},
   "source": [
    "### AR Models"
   ]
  },
  {
   "cell_type": "code",
   "execution_count": null,
   "metadata": {},
   "outputs": [],
   "source": [
    "#all_monthly_sales = pd.read_csv(output_path + 'all_monthly_sales')\n",
    "\n",
    "months = (np.arange(34) % 12)+1\n",
    "\n",
    "pred_min = 6\n",
    "\n",
    "predictions = np.zeros([e,2])\n",
    "q=0\n",
    "for k in range(e): \n",
    "    \n",
    "    #acf = sm.tsa.acf(store_item_sales_by_month[k,2:])\n",
    "    #y_acf = np.arange(len(acf))\n",
    "    \n",
    "    ary = all_monthly_sales_df[(all_monthly_sales_df.shop == test_df['shop_id'][k]) & (all_monthly_sales_df.item == test_df['item_id'][k])][M]\n",
    "    ary = ary.values\n",
    "    \n",
    "    if ary.shape[0]==0:\n",
    "        predictions[q,1] = 0\n",
    "        predictions[q,0] = q\n",
    "        q = q + 1\n",
    "        \n",
    "    else:\n",
    "        ar = sm.tsa.AR(ary[0,:]).fit(2,trend='nc',disp=False)\n",
    "        \n",
    "#         print(ar.params)\n",
    "#         print(ar.predict())\n",
    "\n",
    "        pred = ar.predict(pred_min,35)\n",
    "        predictions[q,1] = pred[-1]\n",
    "        predictions[q,0] = q\n",
    "        q=q+1\n",
    "        \n",
    "#     plt.figure()\n",
    "#     plt.title('Autocorrelation')\n",
    "#     plt.bar(y_acf, acf)\n",
    "#     plt.show()"
   ]
  },
  {
   "cell_type": "markdown",
   "metadata": {},
   "source": [
    "### Decision Tree Models"
   ]
  },
  {
   "cell_type": "code",
   "execution_count": 109,
   "metadata": {},
   "outputs": [],
   "source": [
    "#all_monthly_sales = pd.read_csv(output_path + 'all_monthly_sales')\n",
    "\n",
    "months = (np.arange(34) % 12)+1\n",
    "\n",
    "pred_min = 6\n",
    "\n",
    "predictions = np.zeros([e,2])\n",
    "q=0\n",
    "for k in range(e):\n",
    "    ary = all_monthly_sales_df[(all_monthly_sales_df.shop == test_df['shop_id'][k]) & (all_monthly_sales_df.item == test_df['item_id'][k])][M]\n",
    "    ary = ary.values\n",
    "    \n",
    "    if ary.shape[0]==0:\n",
    "        predictions[q,1] = 0\n",
    "        predictions[q,0] = q\n",
    "        q=q+1\n",
    "    else:\n",
    "        feats = np.vstack((ary[0,0:-1],months[1:])).reshape(len(months[1:]),2)\n",
    "        tree_boost = GradientBoostingRegressor(n_estimators=120, max_depth =12)\n",
    "        tree_boost.fit(feats, ary[0,1:])\n",
    "        pred = tree_boost.predict(feats)\n",
    "        \n",
    "        predictions[q,1] = pred[-1]\n",
    "        predictions[q,0] = q\n",
    "        q=q+1"
   ]
  },
  {
   "cell_type": "markdown",
   "metadata": {},
   "source": [
    "### Random Increase"
   ]
  },
  {
   "cell_type": "code",
   "execution_count": 129,
   "metadata": {},
   "outputs": [],
   "source": [
    "#all_monthly_sales = pd.read_csv(output_path + 'all_monthly_sales')\n",
    "\n",
    "months = (np.arange(34) % 12)+1\n",
    "\n",
    "pred_min = 6\n",
    "predictions = np.zeros([e,2])\n",
    "q=0\n",
    "for k in range(e): \n",
    "    ary = all_monthly_sales_df[(all_monthly_sales_df.shop == test_df['shop_id'][k]) & (all_monthly_sales_df.item == test_df['item_id'][k])][M]\n",
    "    ary = ary.values\n",
    "    \n",
    "    if ary.shape[0]==0:\n",
    "        predictions[q,1] = 0\n",
    "        predictions[q,0] = q\n",
    "        q = q + 1\n",
    "        \n",
    "    else:\n",
    "        a = ary[0,22] - ary[0,21] #the amount of change from oct - nov the previous year\n",
    "        b = ary[0,-1]\n",
    "        r = np.random.uniform(0.5,1)\n",
    "        predictions[q,1] = a+b*r #b + a * r???\n",
    "        predictions[q,0] = q\n",
    "        q=q+1\n",
    "            "
   ]
  },
  {
   "cell_type": "markdown",
   "metadata": {},
   "source": [
    "## Process Output"
   ]
  },
  {
   "cell_type": "code",
   "execution_count": 158,
   "metadata": {},
   "outputs": [],
   "source": [
    "trial = 22\n",
    "\n",
    "predictions_trimmed = trim_predictions(predictions)\n",
    "\n",
    "# for k in range(e):\n",
    "#     predictions_trimmed[k,0]=k\n",
    "    \n",
    "np.savetxt(output_path +'predictions%d.csv' %trial, predictions_trimmed, fmt = '%10.7f', delimiter = ',')"
   ]
  }
 ],
 "metadata": {
  "kernelspec": {
   "display_name": "Python 3",
   "language": "python",
   "name": "python3"
  },
  "language_info": {
   "codemirror_mode": {
    "name": "ipython",
    "version": 3
   },
   "file_extension": ".py",
   "mimetype": "text/x-python",
   "name": "python",
   "nbconvert_exporter": "python",
   "pygments_lexer": "ipython3",
   "version": "3.6.4"
  }
 },
 "nbformat": 4,
 "nbformat_minor": 2
}
